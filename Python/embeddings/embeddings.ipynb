{
 "cells": [
  {
   "cell_type": "markdown",
   "id": "b6626c54-4079-4c26-9b99-9e9ffd6c684e",
   "metadata": {},
   "source": [
    "# Embeddings\n",
    "\n",
    "Date: 2024/09/10"
   ]
  },
  {
   "cell_type": "code",
   "execution_count": 1,
   "id": "d13e5f73-fcb1-41f4-b1cc-fb9b640a3ae5",
   "metadata": {},
   "outputs": [],
   "source": [
    "from langchain_openai import OpenAIEmbeddings\n",
    "from langchain_chroma import Chroma\n",
    "from langchain_text_splitters import SpacyTextSplitter\n",
    "import glob\n",
    "\n",
    "embeddings = OpenAIEmbeddings(model=\"text-embedding-ada-002\")\n",
    "\n",
    "DOCUMENTS = \"../doc/*.txt\"\n",
    "\n",
    "# Note: the following code requires \"en_core_web_lg\".\n",
    "# python3 -m spacy download en_core_web_lg\n",
    "text_spliter = SpacyTextSplitter(\n",
    "  chunk_size=600,\n",
    "  pipeline=\"en_core_web_lg\"\n",
    ")\n",
    "\n",
    "vector_store = Chroma(\n",
    "    embedding_function=embeddings,\n",
    "    persist_directory=\"./db\"\n",
    ")"
   ]
  },
  {
   "cell_type": "code",
   "execution_count": 2,
   "id": "94306b4a-1719-4406-9687-295f81fc5bae",
   "metadata": {},
   "outputs": [
    {
     "name": "stdout",
     "output_type": "stream",
     "text": [
      "{'ids': [], 'embeddings': None, 'metadatas': [], 'documents': [], 'uris': None, 'data': None, 'included': ['metadatas', 'documents']}\n"
     ]
    },
    {
     "name": "stderr",
     "output_type": "stream",
     "text": [
      "/Library/Frameworks/Python.framework/Versions/3.11/lib/python3.11/site-packages/spacy/pipeline/lemmatizer.py:211: UserWarning: [W108] The rule-based lemmatizer did not find POS annotation for one or more tokens. Check that your pipeline includes components that assign token.pos, typically 'tagger'+'attribute_ruler' or 'morphologizer'.\n",
      "  warnings.warn(Warnings.W108)\n",
      "/Library/Frameworks/Python.framework/Versions/3.11/lib/python3.11/site-packages/spacy/pipeline/lemmatizer.py:211: UserWarning: [W108] The rule-based lemmatizer did not find POS annotation for one or more tokens. Check that your pipeline includes components that assign token.pos, typically 'tagger'+'attribute_ruler' or 'morphologizer'.\n",
      "  warnings.warn(Warnings.W108)\n"
     ]
    }
   ],
   "source": [
    "# Clear all\n",
    "ids = vector_store.get(include=[])['ids']\n",
    "for id in ids:\n",
    "  vector_store.delete(id)\n",
    "    \n",
    "print(vector_store.get())\n",
    "\n",
    "# Document paths\n",
    "file_paths = glob.glob(DOCUMENTS)\n",
    "\n",
    "# Add embeddings\n",
    "for path in file_paths:\n",
    "    scene_id = path.split('/')[-1].replace('.txt', '')\n",
    "    with open(path) as f:\n",
    "        text = f.read()\n",
    "        texts = text_spliter.split_text(text)\n",
    "        vector_store.add_texts(texts, metadatas=[{'scene_id': scene_id}])"
   ]
  }
 ],
 "metadata": {
  "kernelspec": {
   "display_name": "Python 3 (ipykernel)",
   "language": "python",
   "name": "python3"
  },
  "language_info": {
   "codemirror_mode": {
    "name": "ipython",
    "version": 3
   },
   "file_extension": ".py",
   "mimetype": "text/x-python",
   "name": "python",
   "nbconvert_exporter": "python",
   "pygments_lexer": "ipython3",
   "version": "3.11.4"
  }
 },
 "nbformat": 4,
 "nbformat_minor": 5
}
