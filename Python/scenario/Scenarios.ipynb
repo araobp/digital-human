{
 "cells": [
  {
   "cell_type": "markdown",
   "id": "70e59e9d-f138-4430-bf4a-aac418548258",
   "metadata": {},
   "source": [
    "# Scenarios\n",
    "\n",
    "Date: 2024/09/07"
   ]
  },
  {
   "cell_type": "code",
   "execution_count": 1,
   "id": "12dd6dc6-0724-46c5-aa07-960061c9f0d0",
   "metadata": {},
   "outputs": [
    {
     "data": {
      "text/plain": [
       "['../../VirtualShowroom/Assets/Resources/Panorama/IMG_0227_level.jpg',\n",
       " '../../VirtualShowroom/Assets/Resources/Panorama/IMG_0230_level.jpg',\n",
       " '../../VirtualShowroom/Assets/Resources/Panorama/IMG_0231_level.jpg',\n",
       " '../../VirtualShowroom/Assets/Resources/Panorama/IMG_0232_level.jpg',\n",
       " '../../VirtualShowroom/Assets/Resources/Panorama/IMG_0236_level.jpg',\n",
       " '../../VirtualShowroom/Assets/Resources/Panorama/IMG_0238_level.jpg',\n",
       " '../../VirtualShowroom/Assets/Resources/Panorama/IMG_0248_level.jpg',\n",
       " '../../VirtualShowroom/Assets/Resources/Panorama/IMG_0249_level.jpg',\n",
       " '../../VirtualShowroom/Assets/Resources/Panorama/IMG_0252_level.jpg',\n",
       " '../../VirtualShowroom/Assets/Resources/Panorama/IMG_0254_level.jpg',\n",
       " '../../VirtualShowroom/Assets/Resources/Panorama/IMG_0256_level.jpg']"
      ]
     },
     "execution_count": 1,
     "metadata": {},
     "output_type": "execute_result"
    }
   ],
   "source": [
    "from IPython.display import Image, display\n",
    "import glob\n",
    "\n",
    "scenarios = []\n",
    "\n",
    "# 240-degree panorama pictures\n",
    "IMG_FILES = \"../../VirtualShowroom/Assets/Resources/Panorama/*.jpg\"\n",
    "paths = sorted(glob.glob(IMG_FILES))\n",
    "paths"
   ]
  },
  {
   "cell_type": "code",
   "execution_count": 2,
   "id": "9a90ad7b-188e-4937-966a-9b1b78a562f0",
   "metadata": {},
   "outputs": [
    {
     "data": {
      "text/plain": [
       "{'IMG_0227': '../../VirtualShowroom/Assets/Resources/Panorama/IMG_0227_level.jpg',\n",
       " 'IMG_0230': '../../VirtualShowroom/Assets/Resources/Panorama/IMG_0230_level.jpg',\n",
       " 'IMG_0231': '../../VirtualShowroom/Assets/Resources/Panorama/IMG_0231_level.jpg',\n",
       " 'IMG_0232': '../../VirtualShowroom/Assets/Resources/Panorama/IMG_0232_level.jpg',\n",
       " 'IMG_0236': '../../VirtualShowroom/Assets/Resources/Panorama/IMG_0236_level.jpg',\n",
       " 'IMG_0238': '../../VirtualShowroom/Assets/Resources/Panorama/IMG_0238_level.jpg',\n",
       " 'IMG_0248': '../../VirtualShowroom/Assets/Resources/Panorama/IMG_0248_level.jpg',\n",
       " 'IMG_0249': '../../VirtualShowroom/Assets/Resources/Panorama/IMG_0249_level.jpg',\n",
       " 'IMG_0252': '../../VirtualShowroom/Assets/Resources/Panorama/IMG_0252_level.jpg',\n",
       " 'IMG_0254': '../../VirtualShowroom/Assets/Resources/Panorama/IMG_0254_level.jpg',\n",
       " 'IMG_0256': '../../VirtualShowroom/Assets/Resources/Panorama/IMG_0256_level.jpg'}"
      ]
     },
     "execution_count": 2,
     "metadata": {},
     "output_type": "execute_result"
    }
   ],
   "source": [
    "filenames = {}\n",
    "scenarios = {}\n",
    "for p in paths:\n",
    "    name = p.split('/')[-1].split('_')[:2]\n",
    "    name = '_'.join(name)\n",
    "    filenames[name] = p\n",
    "\n",
    "filenames"
   ]
  },
  {
   "cell_type": "markdown",
   "id": "c966f656-410e-45ab-855b-56282108b463",
   "metadata": {},
   "source": [
    "## IMG_0227"
   ]
  },
  {
   "cell_type": "code",
   "execution_count": 3,
   "id": "7b2c43fe-0544-43fe-bbcc-8b36e5064326",
   "metadata": {},
   "outputs": [],
   "source": [
    "# IMG_0227\n",
    "#display(Image(filenames['IMG_0227'], width=800))"
   ]
  },
  {
   "cell_type": "code",
   "execution_count": 4,
   "id": "d37a059b-fe34-4000-86b2-c2746d5793fc",
   "metadata": {},
   "outputs": [],
   "source": [
    "scenarios['IMG_0227'] = '''\n",
    "この240度パノラマ写真は横浜の臨港パークから撮影されたものです。右手には横浜ハンマーヘッドが見えます。\n",
    "'''"
   ]
  },
  {
   "cell_type": "markdown",
   "id": "044ef133-7b31-4b49-aa74-0cb9cbbdfddf",
   "metadata": {},
   "source": [
    "## IMG_0230"
   ]
  },
  {
   "cell_type": "code",
   "execution_count": 5,
   "id": "a1cc0a3a-e6ee-4759-8891-03c1453d3dd9",
   "metadata": {},
   "outputs": [],
   "source": [
    "# IMG_0230\n",
    "#display(Image(filenames['IMG_0230'], width=800))"
   ]
  },
  {
   "cell_type": "code",
   "execution_count": 6,
   "id": "f8b94318-00a9-4992-85df-83181564a86a",
   "metadata": {},
   "outputs": [],
   "source": [
    "scenarios['IMG_0230'] = '''\n",
    "この240度パノラマ写真は横浜の山下臨港線プロムナードから撮影されたものです。左手にはみなとみらい２１の中心街、赤レンガ倉庫や横浜税関（クイーンの塔）が見えます。\n",
    "右手には横浜大さん橋が見えます。\n",
    "'''"
   ]
  },
  {
   "cell_type": "markdown",
   "id": "c5aaf1b9-e42d-4d2c-90b0-545b83ce6d23",
   "metadata": {},
   "source": [
    "## IMG_0231"
   ]
  },
  {
   "cell_type": "code",
   "execution_count": 7,
   "id": "7e9bf1b1-7ff3-4406-9a1e-80462f2c2deb",
   "metadata": {},
   "outputs": [],
   "source": [
    "# IMG_0231\n",
    "#display(Image(filenames['IMG_0231'], width=800))"
   ]
  },
  {
   "cell_type": "code",
   "execution_count": 8,
   "id": "4e99c9db-a15c-48ba-a9ad-a87cfe57501e",
   "metadata": {},
   "outputs": [],
   "source": [
    "scenarios['IMG_0231'] = '''\n",
    "この240度パノラマ写真は横浜の山下臨港線プロムナードから撮影されたものです。左手にはみなとみらい２１の中心街、赤レンガ倉庫や横浜税関（クイーンの塔）が見えます。\n",
    "右手には横浜大さん橋が見えます。\n",
    "'''"
   ]
  },
  {
   "cell_type": "markdown",
   "id": "86278844-7f1b-423d-add3-72f5c1d3c5ca",
   "metadata": {},
   "source": [
    "## IMG_0232"
   ]
  },
  {
   "cell_type": "code",
   "execution_count": 9,
   "id": "273c8797-2fe5-48bb-964d-c25d34766ec2",
   "metadata": {},
   "outputs": [],
   "source": [
    "# IMG_0232\n",
    "#display(Image(filenames['IMG_0232'], width=800))"
   ]
  },
  {
   "cell_type": "code",
   "execution_count": 10,
   "id": "861f9757-6004-43d9-b793-2327eaa5aee2",
   "metadata": {},
   "outputs": [],
   "source": [
    "scenarios['IMG_0232'] = '''\n",
    "この240度パノラマ写真は横浜大さん橋から撮影されたものです。中央から左手にかけては、みなとみらい２１の中心街や赤レンガ倉庫が見えます。また、画面中央付近には、海上保安庁の巡視船が見えます。\n",
    "'''"
   ]
  },
  {
   "cell_type": "markdown",
   "id": "400b082f-6760-404b-9b1e-fa5720a94552",
   "metadata": {},
   "source": [
    "## IMG_0238"
   ]
  },
  {
   "cell_type": "code",
   "execution_count": 11,
   "id": "7ad8b411-3a0e-44a8-9eb1-23748459784d",
   "metadata": {},
   "outputs": [],
   "source": [
    "# IMG_0238\n",
    "#display(Image(filenames['IMG_0238'], width=800))"
   ]
  },
  {
   "cell_type": "code",
   "execution_count": 12,
   "id": "e96db5c9-e178-4af5-a74d-9b8b306f71d5",
   "metadata": {},
   "outputs": [],
   "source": [
    "scenarios['IMG_0238'] = '''\n",
    "この240度パノラマ写真は横浜大さん橋から撮影されたものです。右手にはみなとみらい２１の中心街や赤レンガ倉庫、左手には氷川丸、山下埠頭や横浜ベイブリッジが見えます。\n",
    "'''"
   ]
  },
  {
   "cell_type": "markdown",
   "id": "9ca8c5a5-d4b1-498f-9bcb-0a739c5a6c23",
   "metadata": {},
   "source": [
    "## IMG_0248"
   ]
  },
  {
   "cell_type": "code",
   "execution_count": 13,
   "id": "c59d1bfd-8c06-4505-9125-0e9fabceed8b",
   "metadata": {},
   "outputs": [],
   "source": [
    "# IMG_0248\n",
    "#display(Image(filenames['IMG_0248'], width=800))"
   ]
  },
  {
   "cell_type": "code",
   "execution_count": 14,
   "id": "84a2d91a-acf6-46d6-8136-f496ea7c19e4",
   "metadata": {},
   "outputs": [],
   "source": [
    "scenarios['IMG_0248'] = '''\n",
    "この240度パノラマ写真は高輪ゲートウェイ駅構内で撮影されたものです。画面左手には山手線のホーム、画面中央付近には京浜東北線のホームが見えます。\n",
    "'''"
   ]
  },
  {
   "cell_type": "markdown",
   "id": "2f2177b5-bb18-4899-bc9b-7c0f1a2a8fed",
   "metadata": {},
   "source": [
    "## IMG_0249"
   ]
  },
  {
   "cell_type": "code",
   "execution_count": 15,
   "id": "550a27f1-c87d-4c42-8f38-0773fdf8f2fa",
   "metadata": {},
   "outputs": [],
   "source": [
    "# IMG_0249\n",
    "#display(Image(filenames['IMG_0249'], width=800))"
   ]
  },
  {
   "cell_type": "code",
   "execution_count": 16,
   "id": "3390b38f-ab98-493c-9f89-bd16e6145c3c",
   "metadata": {},
   "outputs": [],
   "source": [
    "scenarios['IMG_0249'] = '''\n",
    "この240度パノラマ写真は高輪ゲートウェイ駅構内で撮影されたものです。画面左手には山手線のホーム、画面中央付近には京浜東北線のホームが見えます。\n",
    "'''"
   ]
  },
  {
   "cell_type": "markdown",
   "id": "f7b0e405-e662-4a74-9e6a-692e196a804f",
   "metadata": {},
   "source": [
    "## IMG_0252"
   ]
  },
  {
   "cell_type": "code",
   "execution_count": 17,
   "id": "8d57eb1c-00de-408a-8015-960c6fe87af6",
   "metadata": {},
   "outputs": [],
   "source": [
    "# IMG_0252\n",
    "#display(Image(filenames['IMG_0252'], width=800))"
   ]
  },
  {
   "cell_type": "code",
   "execution_count": 18,
   "id": "e003eda7-c68c-4948-bdfb-439ec9c47a4c",
   "metadata": {},
   "outputs": [],
   "source": [
    "scenarios['IMG_0252'] = '''\n",
    "この240度パノラマ写真は高輪ゲートウェイ駅構内で撮影されたものです。画面右手には東京総合車両センターの車両基地が見えます。\n",
    "'''"
   ]
  },
  {
   "cell_type": "markdown",
   "id": "88cc659a-343b-4cc2-af95-da1cfd03b60b",
   "metadata": {},
   "source": [
    "## IMG_0254"
   ]
  },
  {
   "cell_type": "code",
   "execution_count": 19,
   "id": "8031371f-c151-4f46-8cbd-a7b362b3626a",
   "metadata": {},
   "outputs": [],
   "source": [
    "# IMG_0252\n",
    "#display(Image(filenames['IMG_0254'], width=800))"
   ]
  },
  {
   "cell_type": "code",
   "execution_count": 20,
   "id": "f0fa0c48-1294-4157-a816-ab3083acdc7f",
   "metadata": {},
   "outputs": [],
   "source": [
    "scenarios['IMG_0254'] = '''\n",
    "この240度パノラマ写真は高輪ゲートウェイ駅構内で撮影されたものです。画面右手には東京総合車両センターの車両基地が見えます。\n",
    "'''"
   ]
  },
  {
   "cell_type": "code",
   "execution_count": 21,
   "id": "cece5ffd-8215-48bb-bc7b-fe7888397a50",
   "metadata": {},
   "outputs": [],
   "source": [
    "# IMG_0256\n",
    "#display(Image(filenames['IMG_0256'], width=800))"
   ]
  },
  {
   "cell_type": "code",
   "execution_count": 22,
   "id": "7e27377c-9b13-4123-af80-5c6961df4a21",
   "metadata": {},
   "outputs": [],
   "source": [
    "scenarios['IMG_0256'] = '''\n",
    "この240度パノラマ写真は高輪ゲートウェイ駅構内で撮影されたものです。画面左手の壁には、駅を開発時の工事現場写真や、まだ開発中な駅周辺の完成予想図が飾られています。\n",
    "'''"
   ]
  },
  {
   "cell_type": "markdown",
   "id": "f3dfb9d8-0d0b-465b-8471-dea6bcb33fac",
   "metadata": {},
   "source": [
    "## Save the scenarios to SQLite database"
   ]
  },
  {
   "cell_type": "code",
   "execution_count": 23,
   "id": "d688e2c5-60f5-40a1-89fb-6368bff2045e",
   "metadata": {},
   "outputs": [],
   "source": [
    "import sqlite3\n",
    "\n",
    "with sqlite3.connect('db/scenarios.db') as conn:\n",
    "    cur = conn.cursor()\n",
    "    cur.execute('CREATE TABLE IF NOT EXISTS scenarios (image TEXT PRIMARY KEY, scenario TEXT)')\n",
    "    cur.execute('DELETE FROM scenarios')\n",
    "    data = list(zip(scenarios.keys(), scenarios.values()))\n",
    "    cur.executemany('insert into scenarios(image, scenario) values (?,?)', data)"
   ]
  },
  {
   "cell_type": "code",
   "execution_count": 24,
   "id": "60f57896-bdaa-41c6-b72e-2a31704a912c",
   "metadata": {},
   "outputs": [
    {
     "data": {
      "text/plain": [
       "[('IMG_0227', '\\nこの240度パノラマ写真は横浜の臨港パークから撮影されたものです。右手には横浜ハンマーヘッドが見えます。\\n'),\n",
       " ('IMG_0230',\n",
       "  '\\nこの240度パノラマ写真は横浜の山下臨港線プロムナードから撮影されたものです。左手にはみなとみらい２１の中心街、赤レンガ倉庫や横浜税関（クイーンの塔）が見えます。\\n右手には横浜大さん橋が見えます。\\n'),\n",
       " ('IMG_0231',\n",
       "  '\\nこの240度パノラマ写真は横浜の山下臨港線プロムナードから撮影されたものです。左手にはみなとみらい２１の中心街、赤レンガ倉庫や横浜税関（クイーンの塔）が見えます。\\n右手には横浜大さん橋が見えます。\\n'),\n",
       " ('IMG_0232',\n",
       "  '\\nこの240度パノラマ写真は横浜大さん橋から撮影されたものです。中央から左手にかけては、みなとみらい２１の中心街や赤レンガ倉庫が見えます。また、画面中央付近には、海上保安庁の巡視船が見えます。\\n'),\n",
       " ('IMG_0238',\n",
       "  '\\nこの240度パノラマ写真は横浜大さん橋から撮影されたものです。右手にはみなとみらい２１の中心街や赤レンガ倉庫、左手には氷川丸、山下埠頭や横浜ベイブリッジが見えます。\\n'),\n",
       " ('IMG_0248',\n",
       "  '\\nこの240度パノラマ写真は高輪ゲートウェイ駅構内で撮影されたものです。画面左手には山手線のホーム、画面中央付近には京浜東北線のホームが見えます。\\n'),\n",
       " ('IMG_0249',\n",
       "  '\\nこの240度パノラマ写真は高輪ゲートウェイ駅構内で撮影されたものです。画面左手には山手線のホーム、画面中央付近には京浜東北線のホームが見えます。\\n'),\n",
       " ('IMG_0252',\n",
       "  '\\nこの240度パノラマ写真は高輪ゲートウェイ駅構内で撮影されたものです。画面右手には東京総合車両センターの車両基地が見えます。\\n'),\n",
       " ('IMG_0254',\n",
       "  '\\nこの240度パノラマ写真は高輪ゲートウェイ駅構内で撮影されたものです。画面右手には東京総合車両センターの車両基地が見えます。\\n'),\n",
       " ('IMG_0256',\n",
       "  '\\nこの240度パノラマ写真は高輪ゲートウェイ駅構内で撮影されたものです。画面左手の壁には、駅を開発時の工事現場写真や、まだ開発中な駅周辺の完成予想図が飾られています。\\n')]"
      ]
     },
     "execution_count": 24,
     "metadata": {},
     "output_type": "execute_result"
    }
   ],
   "source": [
    "with sqlite3.connect('db/scenarios.db') as conn:\n",
    "    cur = conn.cursor()\n",
    "    records = cur.execute('SELECT * FROM scenarios').fetchall()\n",
    "\n",
    "records"
   ]
  }
 ],
 "metadata": {
  "kernelspec": {
   "display_name": "Python 3 (ipykernel)",
   "language": "python",
   "name": "python3"
  },
  "language_info": {
   "codemirror_mode": {
    "name": "ipython",
    "version": 3
   },
   "file_extension": ".py",
   "mimetype": "text/x-python",
   "name": "python",
   "nbconvert_exporter": "python",
   "pygments_lexer": "ipython3",
   "version": "3.11.4"
  }
 },
 "nbformat": 4,
 "nbformat_minor": 5
}
